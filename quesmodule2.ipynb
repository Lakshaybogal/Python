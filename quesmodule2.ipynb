{
  "nbformat": 4,
  "nbformat_minor": 0,
  "metadata": {
    "colab": {
      "provenance": [],
      "authorship_tag": "ABX9TyOPeW+/lThXKE5wElpPzW/1"
    },
    "kernelspec": {
      "name": "python3",
      "display_name": "Python 3"
    },
    "language_info": {
      "name": "python"
    }
  },
  "cells": [
    {
      "cell_type": "code",
      "execution_count": null,
      "metadata": {
        "id": "V4CV76g1ib4l"
      },
      "outputs": [],
      "source": [
        "D = {'Dish1': 100, 'Dish2': 200, 'Dish3': 300}"
      ]
    }
  ]
}