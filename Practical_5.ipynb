{
  "nbformat": 4,
  "nbformat_minor": 0,
  "metadata": {
    "colab": {
      "provenance": [],
      "mount_file_id": "1V_nhlGpoIgz3aTnjtIvy5lCjQE6o267M",
      "authorship_tag": "ABX9TyPcbM6nXKf2+BG97qVIGTN5"
    },
    "kernelspec": {
      "name": "python3",
      "display_name": "Python 3"
    },
    "language_info": {
      "name": "python"
    }
  },
  "cells": [
    {
      "cell_type": "code",
      "execution_count": null,
      "metadata": {
        "colab": {
          "base_uri": "https://localhost:8080/"
        },
        "id": "molKjRAEuU-o",
        "outputId": "6666c471-df39-4b9c-ef04-3da388db3022"
      },
      "outputs": [
        {
          "output_type": "stream",
          "name": "stdout",
          "text": [
            "Module\n"
          ]
        }
      ],
      "source": [
        "print(\"Module\")"
      ]
    },
    {
      "cell_type": "markdown",
      "source": [
        "QUES 1\n"
      ],
      "metadata": {
        "id": "8WHrE7tBYia5"
      }
    },
    {
      "cell_type": "code",
      "source": [
        "from google.colab import files\n",
        "files.upload()"
      ],
      "metadata": {
        "id": "HfTQtOH6xkO7",
        "colab": {
          "base_uri": "https://localhost:8080/",
          "height": 350
        },
        "outputId": "c5414f5b-11b2-4180-8360-5a5fe7fb33c3"
      },
      "execution_count": 13,
      "outputs": [
        {
          "output_type": "display_data",
          "data": {
            "text/plain": [
              "<IPython.core.display.HTML object>"
            ],
            "text/html": [
              "\n",
              "     <input type=\"file\" id=\"files-66878e57-6a16-4796-9999-f7edecb7a951\" name=\"files[]\" multiple disabled\n",
              "        style=\"border:none\" />\n",
              "     <output id=\"result-66878e57-6a16-4796-9999-f7edecb7a951\">\n",
              "      Upload widget is only available when the cell has been executed in the\n",
              "      current browser session. Please rerun this cell to enable.\n",
              "      </output>\n",
              "      <script>// Copyright 2017 Google LLC\n",
              "//\n",
              "// Licensed under the Apache License, Version 2.0 (the \"License\");\n",
              "// you may not use this file except in compliance with the License.\n",
              "// You may obtain a copy of the License at\n",
              "//\n",
              "//      http://www.apache.org/licenses/LICENSE-2.0\n",
              "//\n",
              "// Unless required by applicable law or agreed to in writing, software\n",
              "// distributed under the License is distributed on an \"AS IS\" BASIS,\n",
              "// WITHOUT WARRANTIES OR CONDITIONS OF ANY KIND, either express or implied.\n",
              "// See the License for the specific language governing permissions and\n",
              "// limitations under the License.\n",
              "\n",
              "/**\n",
              " * @fileoverview Helpers for google.colab Python module.\n",
              " */\n",
              "(function(scope) {\n",
              "function span(text, styleAttributes = {}) {\n",
              "  const element = document.createElement('span');\n",
              "  element.textContent = text;\n",
              "  for (const key of Object.keys(styleAttributes)) {\n",
              "    element.style[key] = styleAttributes[key];\n",
              "  }\n",
              "  return element;\n",
              "}\n",
              "\n",
              "// Max number of bytes which will be uploaded at a time.\n",
              "const MAX_PAYLOAD_SIZE = 100 * 1024;\n",
              "\n",
              "function _uploadFiles(inputId, outputId) {\n",
              "  const steps = uploadFilesStep(inputId, outputId);\n",
              "  const outputElement = document.getElementById(outputId);\n",
              "  // Cache steps on the outputElement to make it available for the next call\n",
              "  // to uploadFilesContinue from Python.\n",
              "  outputElement.steps = steps;\n",
              "\n",
              "  return _uploadFilesContinue(outputId);\n",
              "}\n",
              "\n",
              "// This is roughly an async generator (not supported in the browser yet),\n",
              "// where there are multiple asynchronous steps and the Python side is going\n",
              "// to poll for completion of each step.\n",
              "// This uses a Promise to block the python side on completion of each step,\n",
              "// then passes the result of the previous step as the input to the next step.\n",
              "function _uploadFilesContinue(outputId) {\n",
              "  const outputElement = document.getElementById(outputId);\n",
              "  const steps = outputElement.steps;\n",
              "\n",
              "  const next = steps.next(outputElement.lastPromiseValue);\n",
              "  return Promise.resolve(next.value.promise).then((value) => {\n",
              "    // Cache the last promise value to make it available to the next\n",
              "    // step of the generator.\n",
              "    outputElement.lastPromiseValue = value;\n",
              "    return next.value.response;\n",
              "  });\n",
              "}\n",
              "\n",
              "/**\n",
              " * Generator function which is called between each async step of the upload\n",
              " * process.\n",
              " * @param {string} inputId Element ID of the input file picker element.\n",
              " * @param {string} outputId Element ID of the output display.\n",
              " * @return {!Iterable<!Object>} Iterable of next steps.\n",
              " */\n",
              "function* uploadFilesStep(inputId, outputId) {\n",
              "  const inputElement = document.getElementById(inputId);\n",
              "  inputElement.disabled = false;\n",
              "\n",
              "  const outputElement = document.getElementById(outputId);\n",
              "  outputElement.innerHTML = '';\n",
              "\n",
              "  const pickedPromise = new Promise((resolve) => {\n",
              "    inputElement.addEventListener('change', (e) => {\n",
              "      resolve(e.target.files);\n",
              "    });\n",
              "  });\n",
              "\n",
              "  const cancel = document.createElement('button');\n",
              "  inputElement.parentElement.appendChild(cancel);\n",
              "  cancel.textContent = 'Cancel upload';\n",
              "  const cancelPromise = new Promise((resolve) => {\n",
              "    cancel.onclick = () => {\n",
              "      resolve(null);\n",
              "    };\n",
              "  });\n",
              "\n",
              "  // Wait for the user to pick the files.\n",
              "  const files = yield {\n",
              "    promise: Promise.race([pickedPromise, cancelPromise]),\n",
              "    response: {\n",
              "      action: 'starting',\n",
              "    }\n",
              "  };\n",
              "\n",
              "  cancel.remove();\n",
              "\n",
              "  // Disable the input element since further picks are not allowed.\n",
              "  inputElement.disabled = true;\n",
              "\n",
              "  if (!files) {\n",
              "    return {\n",
              "      response: {\n",
              "        action: 'complete',\n",
              "      }\n",
              "    };\n",
              "  }\n",
              "\n",
              "  for (const file of files) {\n",
              "    const li = document.createElement('li');\n",
              "    li.append(span(file.name, {fontWeight: 'bold'}));\n",
              "    li.append(span(\n",
              "        `(${file.type || 'n/a'}) - ${file.size} bytes, ` +\n",
              "        `last modified: ${\n",
              "            file.lastModifiedDate ? file.lastModifiedDate.toLocaleDateString() :\n",
              "                                    'n/a'} - `));\n",
              "    const percent = span('0% done');\n",
              "    li.appendChild(percent);\n",
              "\n",
              "    outputElement.appendChild(li);\n",
              "\n",
              "    const fileDataPromise = new Promise((resolve) => {\n",
              "      const reader = new FileReader();\n",
              "      reader.onload = (e) => {\n",
              "        resolve(e.target.result);\n",
              "      };\n",
              "      reader.readAsArrayBuffer(file);\n",
              "    });\n",
              "    // Wait for the data to be ready.\n",
              "    let fileData = yield {\n",
              "      promise: fileDataPromise,\n",
              "      response: {\n",
              "        action: 'continue',\n",
              "      }\n",
              "    };\n",
              "\n",
              "    // Use a chunked sending to avoid message size limits. See b/62115660.\n",
              "    let position = 0;\n",
              "    do {\n",
              "      const length = Math.min(fileData.byteLength - position, MAX_PAYLOAD_SIZE);\n",
              "      const chunk = new Uint8Array(fileData, position, length);\n",
              "      position += length;\n",
              "\n",
              "      const base64 = btoa(String.fromCharCode.apply(null, chunk));\n",
              "      yield {\n",
              "        response: {\n",
              "          action: 'append',\n",
              "          file: file.name,\n",
              "          data: base64,\n",
              "        },\n",
              "      };\n",
              "\n",
              "      let percentDone = fileData.byteLength === 0 ?\n",
              "          100 :\n",
              "          Math.round((position / fileData.byteLength) * 100);\n",
              "      percent.textContent = `${percentDone}% done`;\n",
              "\n",
              "    } while (position < fileData.byteLength);\n",
              "  }\n",
              "\n",
              "  // All done.\n",
              "  yield {\n",
              "    response: {\n",
              "      action: 'complete',\n",
              "    }\n",
              "  };\n",
              "}\n",
              "\n",
              "scope.google = scope.google || {};\n",
              "scope.google.colab = scope.google.colab || {};\n",
              "scope.google.colab._files = {\n",
              "  _uploadFiles,\n",
              "  _uploadFilesContinue,\n",
              "};\n",
              "})(self);\n",
              "</script> "
            ]
          },
          "metadata": {}
        },
        {
          "output_type": "stream",
          "name": "stdout",
          "text": [
            "Saving module3.py to module3 (2).py\n"
          ]
        },
        {
          "output_type": "execute_result",
          "data": {
            "text/plain": [
              "{'module3.py': b'# -*- coding: utf-8 -*-\\n\"\"\"module3.ipynb\\n\\nAutomatically generated by Colaboratory.\\n\\nOriginal file is located at\\n    https://colab.research.google.com/drive/1DQgXuMENz3hEaN9llyuKoFtjcAdeh8M9\\n\"\"\"\\n\\nfrom google.colab import files\\nfiles.upload()\\n\\nfrom module2 import Bill\\ndict1 = {\\n    \"Masala dosa\":60,\\n   \"Dal makhani\":150,\\n   \"Vada pav\":15,\\n   \"Pani puri\":30,\\n   \"Paratha\":50,\\n   \"Barfi\":400,\\n   }\\nob = Bill()\\nclass costPerPlate:\\n  def calculate_bill(self):\\n    self.dishes=[]\\n    print(\"List of items....\")\\n    print(dict1)\\n    n = int(input(\"Enter no. of items you ordered: \"))\\n    for i in range(n):\\n      dish = input(\"Enter name of dish: \")\\n      if dish in dict1:\\n        quantity = int(input(\"Enter Quantity: \"))\\n        self.dishes.append(dish)\\n        ob.add_dish(dish,quantity)\\n    ob.calculate()\\n    name = input(\"Enter name of Hotel: \")\\n    print(\"********************************************************************\")\\n    print(f\"HOTEL NAME : {name}\")\\n    print(\"{:<15} {:<10}\".format(\"Dishname\",\"Quantity\"))\\n    for i in range(n):\\n      print(\"{:<15} {:<10}\".format(self.dishes[i],ob.Quant[i]))\\n\\n    print(\"TOTAL: \")\\n    print(\"*********************************************************************\")\\n    print(f\"GST  : {ob.GST}\")\\n    print(f\"Bill after GST: {ob.bill}\")\\n    print(\"*********************************************************************\")\\n    print(f\"Discount : {ob.discount}\")\\n    print(f\"Amount after discount: \")\\n    print(\"*********************************************************************\")\\n    print(f\"PAYABLE AMOUNT: {ob.new_bill}\")\\n    print(\"*********************************************************************\")\\n    print(\"-------------------------- HAVE A NICE DAY --------------------------\")\\n\\n'}"
            ]
          },
          "metadata": {},
          "execution_count": 13
        }
      ]
    },
    {
      "cell_type": "code",
      "source": [
        "from module3 import Calculate_Bill"
      ],
      "metadata": {
        "id": "0pgjNscbWFrt"
      },
      "execution_count": 16,
      "outputs": []
    },
    {
      "cell_type": "code",
      "source": [
        "bill = Calculate_Bill()\n",
        "bill.calculate_bill()"
      ],
      "metadata": {
        "id": "TrT_TUqW3aNv"
      },
      "execution_count": null,
      "outputs": []
    },
    {
      "cell_type": "markdown",
      "source": [
        "QUES 2\n"
      ],
      "metadata": {
        "id": "GE7bfFukXQub"
      }
    },
    {
      "cell_type": "code",
      "source": [
        "class BankAccount:\n",
        "    def __init__(self, accountNumber, name, balance):\n",
        "        self.accountNumber = accountNumber\n",
        "        self.name = name\n",
        "        self.balance = balance\n",
        "\n",
        "    def deposit(self, amount):\n",
        "        self.balance += amount\n",
        "        print(f''' {amount} is deposit in Account {self.accountNumber} \\n Total Balance is {self.balance}''')\n",
        "\n",
        "    def withdrawal(self, amount):\n",
        "        if self.balance >= amount:\n",
        "            self.balance -= amount\n",
        "        else:\n",
        "            print(\"Insufficient balance\")\n",
        "\n",
        "    def bankFees(self):\n",
        "        fee = self.balance * 0.05\n",
        "        self.balance -= fee\n",
        "\n",
        "    def display(self):\n",
        "        print(\"Account Number: \", self.accountNumber)\n",
        "        print(\"Name: \", self.name)\n",
        "        print(\"Balance: \", self.balance)\n",
        "\n",
        "\n",
        "class UPI_account(BankAccount):\n",
        "    def __init__(self, accountNumber, name, balance, UPI_ID):\n",
        "        self.accountNumber = accountNumber\n",
        "        self.name = name\n",
        "        self.balance = balance\n",
        "        self.UPI_ID = UPI_ID\n",
        "\n",
        "    def display(self):\n",
        "        super().display()\n",
        "        print(\"UPI ID: \", self.UPI_ID)"
      ],
      "metadata": {
        "id": "HFPscy32A0R3"
      },
      "execution_count": null,
      "outputs": []
    },
    {
      "cell_type": "code",
      "source": [
        "accountNum = int(input(\"Enter Account number: \"))\n",
        "name = input(\"Enter Account Holder Name: \")\n",
        "balance = int(input(\"Enter Account balance: \"))\n",
        "upi = input(\"Enter Account UPI ID: \")\n",
        "account = BankAccount(accountNum, name, balance)\n",
        "upi_account = UPI_account(accountNum, name, balance,upi)"
      ],
      "metadata": {
        "colab": {
          "base_uri": "https://localhost:8080/"
        },
        "id": "6K6hN-SjA0hN",
        "outputId": "68a9f788-4a62-47f6-f797-759701fc9d26"
      },
      "execution_count": null,
      "outputs": [
        {
          "name": "stdout",
          "output_type": "stream",
          "text": [
            "Enter Account number: 345456\n",
            "Enter Account Holder Name: lakshay\n",
            "Enter Account balance: 999999\n",
            "Enter Account UPI ID: lakshay@python\n"
          ]
        }
      ]
    },
    {
      "cell_type": "code",
      "source": [
        "\n",
        "while(1):\n",
        "  print(\"1.Display Account Details\\n\")\n",
        "  print(\"2.Deposit Money\\n\")\n",
        "  print(\"3.Withdraw Money\\n\")\n",
        "  print(\"4.Display UPI Account Details\\n\")\n",
        "  print(\"5.EXIT\\n\")\n",
        "  n =int(input(\"Enter your Task:\"))\n",
        "  if(n==1):\n",
        "    account.display()\n",
        "  elif(n==2):\n",
        "    amt = int(input(\"Enter Amount to Deposite:\"))\n",
        "    account.deposit(amt)\n",
        "  elif(n==3):\n",
        "    amt = int(input(\"Enter Amount to Withdraw:\"))\n",
        "    account.withdrawal(amt)\n",
        "    account.bankFees()\n",
        "  elif(n==4):\n",
        "    upi_account.display()\n",
        "  elif(n==5):\n",
        "    break\n",
        "  \n",
        "\n"
      ],
      "metadata": {
        "colab": {
          "base_uri": "https://localhost:8080/"
        },
        "id": "eCPK3CwOA0v_",
        "outputId": "799e0885-59e5-4447-a4c0-df9de375d4c8"
      },
      "execution_count": null,
      "outputs": [
        {
          "name": "stdout",
          "output_type": "stream",
          "text": [
            "1.Display Account Details\n",
            "\n",
            "2.Deposit Money\n",
            "\n",
            "3.Withdraw Money\n",
            "\n",
            "4.Display UPI Account Details\n",
            "\n",
            "5.EXIT\n",
            "\n",
            "Enter your Task:4\n",
            "Account Number:  345456\n",
            "Name:  lakshay\n",
            "Balance:  999999\n",
            "UPI ID:  lakshay@python\n",
            "1.Display Account Details\n",
            "\n",
            "2.Deposit Money\n",
            "\n",
            "3.Withdraw Money\n",
            "\n",
            "4.Display UPI Account Details\n",
            "\n",
            "5.EXIT\n",
            "\n",
            "Enter your Task:2\n",
            "Enter Amount to Deposite:1\n",
            " 1 is deposit in Account 345456 \n",
            " Total Balance is 1000000\n",
            "1.Display Account Details\n",
            "\n",
            "2.Deposit Money\n",
            "\n",
            "3.Withdraw Money\n",
            "\n",
            "4.Display UPI Account Details\n",
            "\n",
            "5.EXIT\n",
            "\n",
            "Enter your Task:1\n",
            "Account Number:  345456\n",
            "Name:  lakshay\n",
            "Balance:  1000000\n",
            "1.Display Account Details\n",
            "\n",
            "2.Deposit Money\n",
            "\n",
            "3.Withdraw Money\n",
            "\n",
            "4.Display UPI Account Details\n",
            "\n",
            "5.EXIT\n",
            "\n",
            "Enter your Task:5\n"
          ]
        }
      ]
    },
    {
      "cell_type": "markdown",
      "source": [
        "Ques 3"
      ],
      "metadata": {
        "id": "XmEnsY4zXLRd"
      }
    },
    {
      "cell_type": "code",
      "source": [
        "f = open('text.txt','w')"
      ],
      "metadata": {
        "id": "D8uBJS675YmK"
      },
      "execution_count": null,
      "outputs": []
    },
    {
      "cell_type": "code",
      "source": [
        "import pprint\n",
        "word = [\"the\",'a',\"an\",\" \"]\n",
        "freq = 0\n",
        "with open(\"text.txt\",'r') as file:\n",
        "  txt = file.read()\n",
        "  file1 = list(txt)\n",
        "  print(txt)\n",
        "for i in file1:\n",
        "  if i not in word:\n",
        "   freq+=1\n",
        "file2 = [\" \"]\n",
        "for z in file1:\n",
        "  if z not in file2:\n",
        "    file2.append(z)\n",
        "file2.pop(0)\n",
        "txt_dict = {}\n",
        "for i in file2:\n",
        "  c = file1.c(i)\n",
        "  txt_dict[i] = c\n",
        "new_file = open(\"NEW.txt\",'w')\n",
        "for file1,y in txt_dict.items():\n",
        "  new_file.write(f\"{file1} = {y}\\n\")\n",
        "print(f\"Total number of characters in a file: {len(txt_dict)}\")"
      ],
      "metadata": {
        "colab": {
          "base_uri": "https://localhost:8080/"
        },
        "id": "nJDFL82k3iJ7",
        "outputId": "84f350bb-79d1-4b0c-9635-57e387dec0bc"
      },
      "execution_count": null,
      "outputs": [
        {
          "output_type": "stream",
          "name": "stdout",
          "text": [
            "Python is a high-level, general-purpose programming language. Its design philosophy emphasizes code readability with the use of significant indentation.\n",
            "Python is dynamically-typed and garbage-collected. It supports multiple programming paradigms, including structured (particularly procedural), object-oriented and functional programming. It is often described as a \"batteries included\" language due to its comprehensive standard library.\n",
            "Total number of characters in a file: 32\n"
          ]
        }
      ]
    },
    {
      "cell_type": "markdown",
      "source": [
        "QUES 4"
      ],
      "metadata": {
        "id": "m79sIM_4XYs8"
      }
    },
    {
      "cell_type": "code",
      "source": [
        "f = open('ques.txt','w')"
      ],
      "metadata": {
        "id": "a3KVsUUz1ZBX"
      },
      "execution_count": null,
      "outputs": []
    },
    {
      "cell_type": "code",
      "source": [
        "import pprint\n",
        "days = [\"monday.\",\"tuesday.\",\"wednesday.\",\"thursday.\",\"friday.\",\"saturday.\",\"sunday.\",\n",
        "\"Monday.\",\"Tuesday.\",\"Wednesday.\",\"Thursday.\",\"Friday.\",\"Saturday.\",\"Sunday.\"]\n",
        "countries = [\"UAE\",\"India\",\"Pakistan\",\"Afganistan\",\"Sri Lanka\",\"Kuwait\",\"West Indies\"]\n",
        "countryDict = {k : 1 for k in countries} \n",
        "dict1 = {}\n",
        "numOfWords = 0\n",
        "daysPresent = []\n",
        "with open(\"ques.txt\",'r') as f:\n",
        "  x = (f.readlines())\n",
        "for i in x:\n",
        "  words = i.split()\n",
        "  numOfWords+=len(words)\n",
        "  for t in words:\n",
        "    if t in days:\n",
        "      daysPresent.append(t)\n",
        "    if t in countries:\n",
        "      val = countryDict[t]\n",
        "      countryDict[t] = val+1\n",
        "\n",
        "dict1[\"Number of words\"] = numOfWords\n",
        "dict1[\"Number of lines\"] = len(x)\n",
        "pprint.pprint(dict1)"
      ],
      "metadata": {
        "id": "eGRguZaj1ZfU",
        "colab": {
          "base_uri": "https://localhost:8080/"
        },
        "outputId": "9ea8e93b-1684-462b-c164-d98a32a6fe21"
      },
      "execution_count": null,
      "outputs": [
        {
          "output_type": "stream",
          "name": "stdout",
          "text": [
            "{'Number of lines': 19, 'Number of words': 176}\n"
          ]
        }
      ]
    },
    {
      "cell_type": "code",
      "source": [
        "print(f\"Days present in a File are: {daysPresent}\")"
      ],
      "metadata": {
        "id": "osAz4x1j1Z_E",
        "colab": {
          "base_uri": "https://localhost:8080/"
        },
        "outputId": "9871aaaf-51fe-4b2c-9e23-6c7c64b9c9d4"
      },
      "execution_count": null,
      "outputs": [
        {
          "output_type": "stream",
          "name": "stdout",
          "text": [
            "Days present in a File are: ['Thursday.', 'Saturday.']\n"
          ]
        }
      ]
    },
    {
      "cell_type": "code",
      "source": [
        "print(f\"Countries and their occurances : \")\n",
        "pprint.pprint(countryDict)"
      ],
      "metadata": {
        "id": "bTY3ZLh81aP-",
        "colab": {
          "base_uri": "https://localhost:8080/"
        },
        "outputId": "63364a82-f0e6-4feb-8aef-f1a540d28a61"
      },
      "execution_count": null,
      "outputs": [
        {
          "output_type": "stream",
          "name": "stdout",
          "text": [
            "Countries and their occurances : \n",
            "{'Afganistan': 1,\n",
            " 'India': 4,\n",
            " 'Kuwait': 2,\n",
            " 'Pakistan': 3,\n",
            " 'Sri Lanka': 1,\n",
            " 'UAE': 3,\n",
            " 'West Indies': 1}\n"
          ]
        }
      ]
    },
    {
      "cell_type": "markdown",
      "source": [
        "Ques 5\n"
      ],
      "metadata": {
        "id": "rqKtbf0YgIkb"
      }
    },
    {
      "cell_type": "code",
      "source": [
        "def wt_tr_data(train_no,train_name,train_type,source,destination):\n",
        "  with open(\"west_train_details.txt\",'a') as file:\n",
        "    file.write(f\"Train number : {train_no} || Train Name : {train_name} || Train Type : {train_type} || Source : {source} || Destination : {destination}\\n\")\n",
        "\n",
        "def train_details(train_no):\n",
        "  with open(\"west_train_details.txt\",'r') as file:\n",
        "    train = file.readlines()\n",
        "  for i in train:\n",
        "    list1 = i.split()\n",
        "    if train_no in list1:\n",
        "      trainDetail = \" \".join(list1)\n",
        "      print(trainDetail)\n",
        "\n",
        "train_no = int(input(\"Enter Train Number: \"))\n",
        "train_name = input(\"Enter name of train: \")\n",
        "train_type = input(\"Enter train type: \")\n",
        "source = input(\"Enter Source of train: \")\n",
        "destination = input(\"Enter destination: \")\n",
        "wt_tr_data(train_no,train_name,train_type,source,destination)\n",
        "\n",
        "trainNum = input(\"Enter Train Number For Train Detail: \")\n",
        "train_details(trainNum)"
      ],
      "metadata": {
        "colab": {
          "base_uri": "https://localhost:8080/"
        },
        "id": "9E8Xo__LgK8a",
        "outputId": "eb8411a8-f453-4813-c46c-a364daca2012"
      },
      "execution_count": null,
      "outputs": [
        {
          "output_type": "stream",
          "name": "stdout",
          "text": [
            "Enter Train Number: 22705\n",
            "Enter name of train: TAJ HAMSAFAR\n",
            "Enter train type: passenger\n",
            "Enter Source of train: Jammu \n",
            "Enter destination: Nagpur\n",
            "Enter Train Number For Train Detail: 22706\n",
            "Train number : 22706 || Train Name : JAT HUMSAFAR || Train Type : Passenger || Source : Nagpur || Destination : Jammu\n"
          ]
        }
      ]
    }
  ]
}